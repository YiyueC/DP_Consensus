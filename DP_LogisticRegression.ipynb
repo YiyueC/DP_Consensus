{
  "nbformat": 4,
  "nbformat_minor": 0,
  "metadata": {
    "colab": {
      "name": "DP_LogisticRegression.ipynb",
      "provenance": [],
      "collapsed_sections": []
    },
    "kernelspec": {
      "name": "python3",
      "display_name": "Python 3"
    },
    "accelerator": "GPU"
  },
  "cells": [
    {
      "cell_type": "code",
      "metadata": {
        "id": "P6YkmsDMkpts",
        "colab_type": "code",
        "colab": {}
      },
      "source": [
        "import tarfile\n",
        "from google.colab import drive\n",
        "# drive.mount('/content/drive/')\n",
        "!fusermount -u drive\n",
        "drive.mount('/content/drive')"
      ],
      "execution_count": 0,
      "outputs": []
    },
    {
      "cell_type": "code",
      "metadata": {
        "id": "Pa03LxNHvyj-",
        "colab_type": "code",
        "outputId": "14a35e8f-64af-4f56-84a8-2d051414bd69",
        "colab": {
          "base_uri": "https://localhost:8080/",
          "height": 51
        }
      },
      "source": [
        "# !pip install tensorflow==1.15.2\n",
        "import tensorflow as tf\n",
        "device_name = tf.test.gpu_device_name()\n",
        "print(tf.__version__)\n",
        "if device_name != '/device:GPU:0':\n",
        "  raise SystemError('GPU device not found')\n",
        "print('Found GPU at: {}'.format(device_name))"
      ],
      "execution_count": 2,
      "outputs": [
        {
          "output_type": "stream",
          "text": [
            "2.2.0\n",
            "Found GPU at: /device:GPU:0\n"
          ],
          "name": "stdout"
        }
      ]
    },
    {
      "cell_type": "code",
      "metadata": {
        "id": "PrgrdUuJkQOP",
        "colab_type": "code",
        "colab": {}
      },
      "source": [
        "import pandas as pd\n",
        "from sklearn.utils import shuffle\n",
        "\n",
        "# Download the file using the `gsutil` CLI\n",
        "# !gsutil cp 'gs://cloudml-demo-lcm/SO_ml_tags_avocado_188k_v2.csv' ./                            8231\n",
        "\n",
        "# Read, shuffle, and preview the data\n",
        "data = pd.read_csv('/content/drive/My Drive/Colab Notebooks/SO_ml_tags_avocado_188k_v2.csv', names=['tags', 'original_tags', 'text'], header=0)\n",
        "data = data.drop(columns=['original_tags'])\n",
        "data = data.dropna()\n",
        "\n",
        "data = shuffle(data, random_state=22)\n",
        "data.head()"
      ],
      "execution_count": 0,
      "outputs": []
    },
    {
      "cell_type": "code",
      "metadata": {
        "id": "qfDT3jYtn2bD",
        "colab_type": "code",
        "colab": {}
      },
      "source": [
        "# Data preprocessing\n",
        "\n",
        "train_size = int(len(data) * .8)\n",
        "\n",
        "train_qs = data['text'].values[:train_size]\n",
        "test_qs = data['text'].values[train_size:]\n"
      ],
      "execution_count": 0,
      "outputs": []
    },
    {
      "cell_type": "code",
      "metadata": {
        "id": "Etdft1nIn-IM",
        "colab_type": "code",
        "colab": {}
      },
      "source": [
        "# Data preprocessing\n",
        "\n",
        "from tensorflow.keras.preprocessing import text\n",
        "\n",
        "tokenizer = text.Tokenizer(num_words=400)\n",
        "tokenizer.fit_on_texts(train_qs)\n",
        "\n",
        "bag_of_words_train = tokenizer.texts_to_matrix(train_qs)\n",
        "bag_of_words_test = tokenizer.texts_to_matrix(test_qs)"
      ],
      "execution_count": 0,
      "outputs": []
    },
    {
      "cell_type": "code",
      "metadata": {
        "id": "jH0SiirnoX7t",
        "colab_type": "code",
        "colab": {}
      },
      "source": [
        "# Data preprocessing\n",
        "\n",
        "tags_split = [tags.split(',') for tags in data['tags'].values]\n"
      ],
      "execution_count": 0,
      "outputs": []
    },
    {
      "cell_type": "code",
      "metadata": {
        "id": "5Z9wHqexodh_",
        "colab_type": "code",
        "colab": {
          "base_uri": "https://localhost:8080/",
          "height": 34
        },
        "outputId": "bca1af73-d013-4e2f-bc5a-2b9511455298"
      },
      "source": [
        "# Create the encoder\n",
        "from sklearn.preprocessing import MultiLabelBinarizer\n",
        "\n",
        "tag_encoder = MultiLabelBinarizer()\n",
        "tags_encoded = tag_encoder.fit_transform(tags_split)\n",
        "\n",
        "# Split the tags into train/test\n",
        "train_tags = tags_encoded[:train_size]\n",
        "test_tags = tags_encoded[train_size:]\n",
        "\n",
        "print(len(test_tags))"
      ],
      "execution_count": 7,
      "outputs": [
        {
          "output_type": "stream",
          "text": [
            "37640\n"
          ],
          "name": "stdout"
        }
      ]
    },
    {
      "cell_type": "code",
      "metadata": {
        "id": "jhIvI6t8ogpS",
        "colab_type": "code",
        "colab": {}
      },
      "source": [
        "import tensorflow as tf\n",
        "from tensorflow import keras\n",
        "from tensorflow.keras import layers\n",
        "\n",
        "VOCAB_SIZE = 400\n",
        "num_tags = 5\n"
      ],
      "execution_count": 0,
      "outputs": []
    },
    {
      "cell_type": "code",
      "metadata": {
        "id": "9wCfAITroF3d",
        "colab_type": "code",
        "colab": {}
      },
      "source": [
        "# Start from here\n",
        "\n",
        "# Data split\n",
        "import numpy as np\n",
        "\n",
        "agentN_lr = 10\n",
        "paraN_lr = VOCAB_SIZE \n",
        "dataN_total = 150000\n",
        "dataN_lr = dataN_total/agentN_lr\n",
        "\n",
        "M_lr_local = np.zeros((int(dataN_lr), VOCAB_SIZE, agentN_lr))\n",
        "for i in range(agentN_lr):\n",
        "  M_lr_local[:, :, i] = np.asarray(bag_of_words_train[i*int(dataN_lr):(i+1)*int(dataN_lr), :])\n",
        "\n",
        "tags_lr_local = np.zeros((int(dataN_lr), num_tags, agentN_lr))\n",
        "for i in range(agentN_lr):\n",
        "  tags_lr_local[:, :, i] = np.asarray(train_tags[i*int(dataN_lr):(i+1)*int(dataN_lr), :] )\n"
      ],
      "execution_count": 0,
      "outputs": []
    },
    {
      "cell_type": "code",
      "metadata": {
        "id": "DW5Lc4LOsx_7",
        "colab_type": "code",
        "colab": {}
      },
      "source": [
        "# Logistic regression function\n",
        "\n",
        "def Logistic_grad(Mi, tagi, xi, num_tags, VOCAB_SIZE, numer, i ):\n",
        "\n",
        "  def my_init1(shape, dtype=None):\n",
        "    return tf.transpose(xi)\n",
        "\n",
        "  model = tf.keras.models.Sequential()\n",
        "  shape = (VOCAB_SIZE, num_tags)\n",
        "  model.add(tf.keras.layers.Dense(num_tags, kernel_initializer=my_init1, input_shape=(VOCAB_SIZE,), activation='sigmoid'))\n",
        "  model.compile(loss='binary_crossentropy', optimizer=keras.optimizers.Adam(learning_rate=numer/(i+1)), metrics=['accuracy'])\n",
        "  train_model = model.fit(Mi, tagi, epochs=1, batch_size=128, validation_split=0.1)\n",
        "  test_output = model.evaluate(bag_of_words_test, test_tags, batch_size=128)\n",
        "  model_1=model.trainable_variables\n",
        "  model_11=tf.convert_to_tensor(\n",
        "    model_1[0], dtype=None, dtype_hint=None, name=None)\n",
        "  model_diff = model_11-tf.transpose(xi)\n",
        "  output = tf.transpose(model_diff, perm=None,name=None)\n",
        "  return output, test_output\n"
      ],
      "execution_count": 0,
      "outputs": []
    },
    {
      "cell_type": "code",
      "metadata": {
        "id": "--PSG-j3rZYO",
        "colab_type": "code",
        "colab": {}
      },
      "source": [
        "# Logistic regression model\n",
        "\n",
        "from numpy import *\n",
        "import random\n",
        "\n",
        "def Logistic_dgd_dp(mu, num_tags, VOCAB_SIZE, N, sel_num, sigma, mode):\n",
        "  x_a1_lr=ts2=tf.Variable(tf.random.normal([num_tags, VOCAB_SIZE, agentN_lr]))\n",
        "  # x_a1_lr=ts2=tf.Variable(tf.zeros([num_tags, VOCAB_SIZE, agentN_lr]))\n",
        "  y_a1_lr=tf.Variable(tf.zeros((num_tags, VOCAB_SIZE, agentN_lr)))\n",
        "  loss_a1_lr=[]\n",
        "  correct=[]\n",
        "  grad_k_a1_lr=tf.Variable(tf.zeros((num_tags, VOCAB_SIZE, agentN_lr)))\n",
        "  numer=0.02\n",
        "  epsilon = 0.01\n",
        "\n",
        "  for i in range(int(N)):\n",
        "    print(i)\n",
        "\n",
        "    test_out = np.zeros((agentN_lr, 2))\n",
        "    for j in range(agentN_lr):\n",
        "      if mode=='dp':\n",
        "        noise = tf.Variable(tf.random.normal([num_tags, VOCAB_SIZE ]))\n",
        "        grad_k_a1_lr_j, test_out_j = Logistic_grad(M_lr_local[:, :, j], tags_lr_local[:, :, j], x_a1_lr[:, :, j], num_tags, VOCAB_SIZE, numer, i)\n",
        "        tf.compat.v1.assign(grad_k_a1_lr[:, :, j], grad_k_a1_lr_j+noise*sigma*(numer/(i+1)))\n",
        "        test_out[j] = [test_out_j[k]+test_out[j, k] for k in range(2)]\n",
        "      else:\n",
        "        grad_k_a1_lr_j, test_out_j = Logistic_grad(M_lr_local[:, :, j], tags_lr_local[:, :, j], x_a1_lr[:, :, j] , num_tags, VOCAB_SIZE, numer, i)\n",
        "        tf.compat.v1.assign(grad_k_a1_lr[:, :, j], grad_k_a1_lr_j)\n",
        "        test_out[j] = [test_out_j[k]+test_out[j, k] for k in range(2)]\n",
        "    loss_a1_lr.append(np.average(test_out[:, 0]))\n",
        "    correct.append(np.average(test_out[:, 1]))\n",
        "\n",
        "    print(tf.math.reduce_max(tf.math.abs(grad_k_a1_lr)))\n",
        "    \n",
        "\n",
        "    M_x=np.zeros((agentN_lr, num_tags*VOCAB_SIZE))\n",
        "    M_y=np.zeros((agentN_lr, num_tags*VOCAB_SIZE))\n",
        "\n",
        "    for j in range(agentN_lr):\n",
        "      x_j=x_a1_lr[:, :, j].numpy()\n",
        "      y_j=y_a1_lr[:, :, j].numpy()\n",
        "      M_x[j, :]=x_j.reshape((1, num_tags*VOCAB_SIZE))\n",
        "      M_y[j, :]=y_j.reshape((1, num_tags*VOCAB_SIZE))\n",
        "\n",
        "    M_x0=np.zeros((agentN_lr, num_tags*VOCAB_SIZE))\n",
        "    M_y0=np.zeros((agentN_lr, num_tags*VOCAB_SIZE))\n",
        "\n",
        "    m_idm = np.zeros((agentN_lr, num_tags*VOCAB_SIZE))\n",
        "    for m in range(agentN_lr):\n",
        "      m_list=list(range(num_tags*VOCAB_SIZE))\n",
        "      m_num=int(ma.floor(len(m_list)*sel_num))\n",
        "      m_id=random.sample(m_list,m_num)\n",
        "      m_idm[m][m_id] = 1\n",
        "\n",
        "    for j in range(num_tags*VOCAB_SIZE):\n",
        "      # Construct Matrix M\n",
        "      # Mechanism 1\n",
        "      A=np.random.random((agentN_lr, agentN_lr))\n",
        "      B=np.random.random((agentN_lr, agentN_lr))\n",
        "      A_new=np.array([A[k] for k in range(agentN_lr)])\n",
        "      B_new=np.array([B[k] for k in range(agentN_lr)])\n",
        "      '''\n",
        "      # Mechanism 2 (Erdős–Rényi)\n",
        "      p=0.95\n",
        "      Wk=generate_conn_w(agentN_lr, agentN_lr, p)\n",
        "      Wk[agentN_lr-1][agentN_lr-2]=0\n",
        "      A_new=np.array([Wk[k] for k in range(agentN_lr)])\n",
        "      B_new=np.array([Wk[k] for k in range(agentN_lr)])\n",
        "      # Mechanism 3 (Periodically changing network)\n",
        "      A=np.random.random((agentN_lr, agentN_lr))\n",
        "      B=np.random.random((agentN_lr, agentN_lr))\n",
        "      if i%2==0:\n",
        "        A=A*A_r\n",
        "        B=B*A_r\n",
        "      else:\n",
        "        A=A*C_r\n",
        "        B=B*C_r\n",
        "      A_new=np.array([A[k] for k in range(agentN_lr)])\n",
        "      B_new=np.array([B[k] for k in range(agentN_lr)])\n",
        "      '''\n",
        "      for m in range(agentN_lr):\n",
        "        w_list=list(range(agentN_lr))\n",
        "        w_list.pop(m)\n",
        "        if sel_num=='full':\n",
        "          w_num=0\n",
        "        elif sel_num=='none':\n",
        "          w_num=agentN-1\n",
        "        else:\n",
        "          w_num=int(ma.floor(len(w_list)/2))\n",
        "#        w_id=random.sample(w_list,w_num)\n",
        "        w_id=[k for k in range(agentN_lr) if m_idm[k, j] == 0 and k != m]\n",
        "        A_new[m][w_id]=0\n",
        "        B_new[m][w_id]=0\n",
        "      A=np.array([A_new[k]/sum(A_new[k]) for k in range(agentN_lr)]) # Make it row-stochastic\n",
        "      B=np.array([B_new.T[k]/sum(B_new.T[k]) for k in range(agentN_lr)]) #Make it column-stochastic\n",
        "      B=B.T\n",
        "      M_up=np.hstack((A, epsilon*np.eye(agentN_lr)))\n",
        "      M_down=np.hstack((np.eye(agentN_lr)-A, B-epsilon*np.eye(agentN_lr)))\n",
        "      M_new=np.vstack((M_up, M_down))\n",
        "        \n",
        "      M_xy_col=np.hstack((M_x[:, j], M_y[:, j]))\n",
        "      M_xy=M_new.dot(M_xy_col.T)\n",
        "      M_x0[:, j]=M_xy[:agentN_lr]\n",
        "      M_y0[:, j]=M_xy[(agentN_lr):]\n",
        "\n",
        "    for j in range(agentN_lr):\n",
        "      x_a1_lr_j = np.reshape(np.array(M_x0[j, :]), (num_tags, VOCAB_SIZE))+grad_k_a1_lr[:, :, j].numpy()\n",
        "      tf.compat.v1.assign(x_a1_lr[:, :, j], tf.convert_to_tensor(np.float32(x_a1_lr_j)) )\n",
        "      y_a1_lr_j = np.reshape(np.array(M_y0[j, :]), (num_tags, VOCAB_SIZE))\n",
        "      tf.compat.v1.assign(y_a1_lr[:, :, j], tf.convert_to_tensor(np.float32(y_a1_lr_j)))\n",
        "\n",
        "    # x_a1_lr = tf.convert_to_tensor(x_a1_lr, dtype=None, dtype_hint=None, name=None )\n",
        "  return loss_a1_lr, correct\n",
        "\n",
        "\n"
      ],
      "execution_count": 0,
      "outputs": []
    },
    {
      "cell_type": "code",
      "metadata": {
        "id": "nNrl3R8C8Xey",
        "colab_type": "code",
        "colab": {}
      },
      "source": [
        "# Run experiments for different parameters\n",
        "\n",
        "mu = 0.0001\n",
        "N = 30\n",
        "sigma = 30\n",
        "\n",
        "l1, c1 = Logistic_dgd_dp(mu, num_tags, VOCAB_SIZE, N, 1, sigma, 'f')\n",
        "l2, c2 = Logistic_dgd_dp(mu, num_tags, VOCAB_SIZE, N, 1, sigma, 'dp')\n",
        "'''\n",
        "l3, c3 = Logistic_dgd_dp(mu, num_tags, VOCAB_SIZE, N, 0.4, sigma, 'f')\n",
        "l4, c4 = Logistic_dgd_dp(mu, num_tags, VOCAB_SIZE, N, 0.4, sigma, 'dp')\n",
        "'''\n",
        "l5, c5 = Logistic_dgd_dp(mu, num_tags, VOCAB_SIZE, N, 0.2, sigma, 'f')\n",
        "l6, c6 = Logistic_dgd_dp(mu, num_tags, VOCAB_SIZE, N, 0.2, sigma, 'dp')\n",
        "\n",
        "\n",
        "data_name_2 = '/tmp/logistic_m1_10nodes.npy'\n",
        "# np.save(data_name_2, [[l1], [c1], [l3], [c3], [l5], [c5], [l2], [c2], [l4], [c4], [l6], [c6]])\n",
        "np.save(data_name_2, [[l1], [c1], [l5], [c5], [l2], [c2], [l6], [c6]])\n"
      ],
      "execution_count": 0,
      "outputs": []
    },
    {
      "cell_type": "code",
      "metadata": {
        "id": "3kXw5WeJrhjB",
        "colab_type": "code",
        "outputId": "18df4aa4-bbf9-43da-f8ab-2688cf8dd1fb",
        "colab": {
          "base_uri": "https://localhost:8080/",
          "height": 300
        }
      },
      "source": [
        "# Plot\n",
        "\n",
        "import matplotlib.pyplot as plt\n",
        "\n",
        "start=1\n",
        "y_axis = np.random.normal(loc=0.5, scale=0.4, size=1000)\n",
        "y_axis = y_axis[(y_axis > 0) & (y_axis < 1)]\n",
        "y_axis.sort()    \n",
        "plt.clf()\n",
        "plt.grid()\n",
        "plt.ylim((0, 0.9))\n",
        "# plt.yscale('log')\n",
        "\n",
        "plt.plot(c1[:30], color='r', linestyle=\"-\", label =r\"$q = 0, \\sigma D = 0$\")\n",
        "plt.plot(c2[:30], color='g', linestyle=\"-.\", label =r\"$q = 0, \\sigma D = 30$\")\n",
        "#plt.plot(l3[:30], color='orange', linestyle=\"-\", label =r\"$q = 0.6, \\sigma D = 0$\")\n",
        "#plt.plot(l4[:30], color='purple', linestyle=\"-.\", label =r\"$q = 0.6, \\sigma D = 30$\")\n",
        "plt.plot(c5[:30], color='b', linestyle=\"-\", label =r\"$q = 0.8, \\sigma D = 0$\")\n",
        "plt.plot(c6[:30], color='y', linestyle=\"-.\", label =r\"$q = 0.8, \\sigma D = 30$\")\n",
        "\n",
        "plt.xlabel('Iteration k')\n",
        "plt.ylabel('Loss')\n",
        "# plt.legend()\n",
        "plt.legend(bbox_to_anchor=(1.00,0.9),loc='upper right')\n"
      ],
      "execution_count": 139,
      "outputs": [
        {
          "output_type": "execute_result",
          "data": {
            "text/plain": [
              "<matplotlib.legend.Legend at 0x7fc10f563c18>"
            ]
          },
          "metadata": {
            "tags": []
          },
          "execution_count": 139
        },
        {
          "output_type": "display_data",
          "data": {
            "image/png": "[encoded data removed]",
            "text/plain": [
              "<Figure size 432x288 with 1 Axes>"
            ]
          },
          "metadata": {
            "tags": [],
            "needs_background": "light"
          }
        }
      ]
    },
    {
      "cell_type": "code",
      "metadata": {
        "id": "2rrNZKb6FHyi",
        "colab_type": "code",
        "colab": {
          "base_uri": "https://localhost:8080/",
          "height": 317
        },
        "outputId": "edbbc2ab-d9d0-4a16-c3c0-82745ac87d82"
      },
      "source": [
        "\n",
        "data_10 = '/tmp/logistic_m1_10nodes.npy'\n",
        "data_20 = '/tmp/logistic_m1_20nodes.npy'\n",
        "data_30 = '/tmp/logistic_m1_30nodes.npy'\n",
        "\n",
        "d_10=np.load(data_10)\n",
        "d_20=np.load(data_20)\n",
        "d_30=np.load(data_30)\n",
        "\n",
        "start=1\n",
        "y_axis = np.random.normal(loc=0.5, scale=0.4, size=1000)\n",
        "y_axis = y_axis[(y_axis > 0) & (y_axis < 1)]\n",
        "y_axis.sort()    \n",
        "plt.clf()\n",
        "plt.grid()\n",
        "plt.ylim((0.6, 0.9))\n",
        "# plt.yscale('log')\n",
        "\n",
        "plt.plot(d_10[3][0], color='r', linestyle=\"-\", label =r\"$n = 10, q = 0.2, \\sigma D = 0$\")\n",
        "plt.plot(d_20[3][0], color='g', linestyle=\"-\", label =r\"$n = 20, q = 0.2, \\sigma D = 0$\")\n",
        "plt.plot(d_30[3][0], color='orange', linestyle=\"-\", label =r\"$n = 30, q = 0.2, \\sigma D = 0$\")\n",
        "plt.plot(d_10[7][0], color='purple', linestyle=\"-.\", label =r\"$n = 10, q = 0.2, \\sigma D = 30$\")\n",
        "plt.plot(d_20[7][0], color='b', linestyle=\"-.\", label =r\"$n = 20, q = 0.2, \\sigma D = 30$\")\n",
        "plt.plot(d_30[7][0], color='y', linestyle=\"-.\", label =r\"$n = 30, q = 0.2, \\sigma D = 30$\")\n",
        "\n",
        "plt.xlabel('Iteration k')\n",
        "plt.ylabel('Accuracy')\n",
        "# plt.legend()\n",
        "plt.legend(bbox_to_anchor=(1.00,0.9),loc='upper right')\n",
        "\n",
        "# plt.savefig('/tmp/lr_accuracy_difnodes_q02.eps',dpi=600,format='eps')"
      ],
      "execution_count": 151,
      "outputs": [
        {
          "output_type": "stream",
          "text": [
            "The PostScript backend does not support transparency; partially transparent artists will be rendered opaque.\n",
            "The PostScript backend does not support transparency; partially transparent artists will be rendered opaque.\n"
          ],
          "name": "stderr"
        },
        {
          "output_type": "display_data",
          "data": {
            "image/png": "[encoded data removed]",
            "text/plain": [
              "<Figure size 432x288 with 1 Axes>"
            ]
          },
          "metadata": {
            "tags": [],
            "needs_background": "light"
          }
        }
      ]
    },
    {
      "cell_type": "code",
      "metadata": {
        "id": "-olnjWuHesxk",
        "colab_type": "code",
        "colab": {}
      },
      "source": [
        "# Privacy functions\n",
        "\n",
        "import numpy as np\n",
        "import matplotlib.pyplot as plt\n",
        "\n",
        "# import tensorflow.compat.v1 as tf1\n",
        "\n",
        "from tensorflow_privacy.privacy.analysis.rdp_accountant import compute_rdp\n",
        "from tensorflow_privacy.privacy.analysis.rdp_accountant import get_privacy_spent\n",
        "\n",
        "def compute_epsilon(steps, noise_multiplier, sampling_probability, delta = 1e-5):\n",
        "    \"\"\"Computes epsilon value for given hyperparameters.\"\"\"\n",
        "    if noise_multiplier == 0.0:\n",
        "        return float('inf')\n",
        "    orders = [1 + x / 10. for x in range(1, 100)] + list(range(12, 64))\n",
        "    rdp = compute_rdp(q=sampling_probability,\n",
        "                    noise_multiplier=noise_multiplier,\n",
        "                    steps=steps,\n",
        "                    orders=orders)\n",
        "    # Delta is set to 1e-5 because MNIST has 60000 training points.\n",
        "    return get_privacy_spent(orders, rdp, target_delta=delta)[0]\n",
        "\n"
      ],
      "execution_count": 0,
      "outputs": []
    },
    {
      "cell_type": "code",
      "metadata": {
        "id": "P5r839A-fAKe",
        "colab_type": "code",
        "outputId": "869f1be3-bb41-4eb8-d79c-6c30ae6d2a03",
        "colab": {
          "base_uri": "https://localhost:8080/",
          "height": 313
        }
      },
      "source": [
        "# Privacy plot\n",
        "\n",
        "steps_list = np.linspace(start=1, stop=15, num=15)\n",
        "noise_multiplier1 = 1 # standard deviation =noise_multiplier(sigma) * D\n",
        "noise_multiplier2 = 2\n",
        "sampling_probability = 0.5\n",
        "delta = 1e-4\n",
        "\n",
        "\n",
        "y1 =[compute_epsilon(steps = st,\n",
        "                    noise_multiplier=noise_multiplier1,\n",
        "                    sampling_probability=1,\n",
        "                    delta=delta) for st in steps_list]\n",
        "\n",
        "y2 =[compute_epsilon(steps = st,\n",
        "                    noise_multiplier=noise_multiplier1,\n",
        "                    sampling_probability=0.4,\n",
        "                    delta=delta) for st in steps_list]\n",
        "\n",
        "\n",
        "y3 =[compute_epsilon(steps = st,\n",
        "                    noise_multiplier=noise_multiplier1,\n",
        "                    sampling_probability=0.2,\n",
        "                    delta=delta) for st in steps_list]\n",
        "\n",
        "y4 =[compute_epsilon(steps = st,\n",
        "                    noise_multiplier=noise_multiplier2,\n",
        "                    sampling_probability=1,\n",
        "                    delta=delta) for st in steps_list]\n",
        "\n",
        "y5 =[compute_epsilon(steps = st,\n",
        "                    noise_multiplier=noise_multiplier2,\n",
        "                    sampling_probability=0.4,\n",
        "                    delta=delta) for st in steps_list]\n",
        "\n",
        "y6 =[compute_epsilon(steps = st,\n",
        "                    noise_multiplier=noise_multiplier2,\n",
        "                    sampling_probability=0.2,\n",
        "                    delta=delta) for st in steps_list]\n",
        "\n",
        "start=1\n",
        "y_axis = np.random.normal(loc=0.5, scale=0.4, size=1000)\n",
        "y_axis = y_axis[(y_axis > 0) & (y_axis < 1)]\n",
        "y_axis.sort()    \n",
        "plt.clf()\n",
        "plt.yscale('log')\n",
        "plt.grid()\n",
        "plt.xlim((0, 16))\n",
        "\n",
        "plt.plot(steps_list, y1, color='g', linestyle=\"-\", label =r\"$q = 0, \\sigma D = 30$\")\n",
        "plt.plot(steps_list, y2, color='purple', linestyle=\"-\", label =r\"$q = 0.6, \\sigma D = 30$\")\n",
        "plt.plot(steps_list, y3, color='y', linestyle=\"-\", label =r\"$q = 0.8, \\sigma D = 30$\")\n",
        "plt.plot(steps_list, y4, color='g', linestyle=\"--\", label =r\"$q = 0, \\sigma D = 60$\")\n",
        "plt.plot(steps_list, y5, color='purple', linestyle=\"--\", label =r\"$q = 0.6, \\sigma D = 60$\")\n",
        "plt.plot(steps_list, y6, color='y', linestyle=\"--\", label =r\"$q = 0.8, \\sigma D = 60$\")\n",
        "\n",
        "plt.xlabel('Iteration k')\n",
        "plt.ylabel('Privacy bound')\n",
        "# plt.legend()\n",
        "plt.legend(bbox_to_anchor=(1.0,0.8),loc='upper right')\n",
        "\n",
        "plt.savefig('/tmp/lr_dp_res_pri.eps',dpi=600,format='eps')"
      ],
      "execution_count": 0,
      "outputs": [
        {
          "output_type": "stream",
          "text": [
            "The PostScript backend does not support transparency; partially transparent artists will be rendered opaque.\n",
            "The PostScript backend does not support transparency; partially transparent artists will be rendered opaque.\n"
          ],
          "name": "stderr"
        },
        {
          "output_type": "display_data",
          "data": {
            "image/png": "[encoded data removed]",
            "text/plain": [
              "<Figure size 432x288 with 1 Axes>"
            ]
          },
          "metadata": {
            "tags": [],
            "needs_background": "light"
          }
        }
      ]
    },
    {
      "cell_type": "code",
      "metadata": {
        "id": "0RY-GAYMHXKf",
        "colab_type": "code",
        "colab": {}
      },
      "source": [
        "# Generate a different topology\n",
        "import matplotlib.pyplot as plt\n",
        "import networkx as nx \n",
        "import numpy as np\n",
        "\n",
        "agentN=10\n",
        "\n",
        "G = nx.generators.directed.gnr_graph(n=agentN, p=0, create_using=None, seed=None)\n",
        "\n",
        "G = nx.DiGraph()\n",
        "G.add_node(0)\n",
        "G.add_node(1)\n",
        "G.add_node(2)\n",
        "G.add_node(3)\n",
        "G.add_node(4)\n",
        "G.add_node(5)\n",
        "G.add_node(6)\n",
        "G.add_node(7)\n",
        "G.add_node(8)\n",
        "G.add_node(9)\n",
        "G.add_edges_from([(1, 2), (2, 5), (3, 7), (0, 7), (0, 6), (4, 1), (5, 1), (6, 7), (7, 4), (8, 6), (9, 2), (5, 3), (2, 0), (3, 4), (5, 8), (9, 0)])\n",
        "\n",
        "pos = nx.circular_layout(G) \n",
        "plt.figure(figsize = (12, 12)) \n",
        "nx.draw_networkx(G, pos) \n",
        "\n",
        "A_r=np.array(nx.adjacency_matrix(G).todense())\n",
        "\n",
        "for i in range(agentN):\n",
        "    w_list=[j for j in range(agentN) if A_r[i][j]==1]\n",
        "    print(w_list)\n",
        "\n",
        "for i in range(10):\n",
        "    A_r[i][i]=1\n",
        "print(A_r)\n",
        "for i in range(agentN):\n",
        "    w_list=[j for j in range(agentN) if A_r[i][j]==1]\n",
        "    print(w_list)\n",
        "'''\n",
        "H = nx.DiGraph()\n",
        "H.add_node(0)\n",
        "H.add_node(1)\n",
        "H.add_node(2)\n",
        "H.add_node(3)\n",
        "H.add_node(4)\n",
        "H.add_node(5)\n",
        "H.add_node(6)\n",
        "H.add_node(7)\n",
        "H.add_node(8)\n",
        "H.add_node(9)\n",
        "H.add_edges_from([(0 ,1), (1, 2), (2, 3), (3, 4), (4, 5), (5, 6), (6, 7), (7, 8), (8, 9), (9, 0)])\n",
        "\n",
        "pos_1 = nx.circular_layout(H) \n",
        "plt.figure(figsize = (12, 12)) \n",
        "nx.draw_networkx(H, pos_1) \n",
        "\n",
        "C_r=np.array(nx.adjacency_matrix(H).todense())\n",
        "for i in range(agentN):\n",
        "    w_list=[j for j in range(agentN) if C_r[i][j]==1]\n",
        "\n",
        "for i in range(10):\n",
        "    C_r[i][i]=1\n",
        "print(C_r)\n",
        "for i in range(agentN):\n",
        "    w_list=[j for j in range(agentN) if C_r[i][j]==1]\n",
        "    print(w_list)\n",
        "'''"
      ],
      "execution_count": 0,
      "outputs": []
    }
  ]
}